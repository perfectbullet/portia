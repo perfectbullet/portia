{
 "cells": [
  {
   "cell_type": "code",
   "execution_count": 4,
   "id": "288d8446-9a35-4170-8efc-a7741f7c442d",
   "metadata": {},
   "outputs": [],
   "source": [
    "schemas = {'edf2-4205-9137': {'fields': {'b6e3-4656-a743': {'required': False, 'id': 'b6e3-4656-a743', 'name': 'author_name', 'vary': False, 'type': 'url'}, '0788-44b9-baa5': {'required': False, 'id': '0788-44b9-baa5', 'name': 'dynasty', 'vary': False, 'type': 'url'}, 'ab26-4e2c-abdd': {'required': False, 'id': 'ab26-4e2c-abdd', 'name': 'pomcontent', 'vary': False, 'type': 'text'}, '77e3-41e4-8ded': {'required': False, 'id': '77e3-41e4-8ded', 'name': 'tags', 'vary': False, 'type': 'text'}, '6d3d-468f-8580': {'required': False, 'id': '6d3d-468f-8580', 'name': 'headerofpoem', 'vary': False, 'type': 'text'}}, 'name': '-'}}"
   ]
  },
  {
   "cell_type": "code",
   "execution_count": 5,
   "id": "134dd34f-5e83-4278-95ae-a48a8ad00fa5",
   "metadata": {},
   "outputs": [
    {
     "name": "stdout",
     "output_type": "stream",
     "text": [
      "edf2-4205-9137\n"
     ]
    }
   ],
   "source": [
    "for _id, name in schemas.items():\n",
    "    print(_id)"
   ]
  },
  {
   "cell_type": "code",
   "execution_count": null,
   "id": "de92f5ce-02b3-4fb2-baa0-5c6e804d360a",
   "metadata": {},
   "outputs": [],
   "source": []
  }
 ],
 "metadata": {
  "kernelspec": {
   "display_name": "Python 3 (ipykernel)",
   "language": "python",
   "name": "python3"
  },
  "language_info": {
   "codemirror_mode": {
    "name": "ipython",
    "version": 3
   },
   "file_extension": ".py",
   "mimetype": "text/x-python",
   "name": "python",
   "nbconvert_exporter": "python",
   "pygments_lexer": "ipython3",
   "version": "3.12.4"
  }
 },
 "nbformat": 4,
 "nbformat_minor": 5
}
